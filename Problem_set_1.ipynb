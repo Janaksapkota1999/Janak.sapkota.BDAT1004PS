{
 "cells": [
  {
   "cell_type": "markdown",
   "id": "90b0ecfa",
   "metadata": {},
   "source": [
    "# Question 1 C#\n",
    "What data type is each of the following?\n",
    "5 \n",
    "5.0\n",
    "5 > 1\n",
    "'5'\n",
    "5 * 2\n",
    "'5' * 2\n",
    "'5' + '2'\n",
    "5 / 2\n",
    "5 % 2\n",
    "{5, 2, 1}\n",
    "5 == 3\n",
    "Pi (the number)"
   ]
  },
  {
   "cell_type": "code",
   "execution_count": 9,
   "id": "b6ee7c1f",
   "metadata": {},
   "outputs": [
    {
     "name": "stdout",
     "output_type": "stream",
     "text": [
      "Value: 5, Data Type: System.Int32\n",
      "Value: 5, Data Type: System.Double\n",
      "Value: True, Data Type: System.Boolean\n",
      "Value: 5, Data Type: System.Char\n",
      "Value: 10, Data Type: System.Int32\n",
      "Value: 106, Data Type: System.Int32\n",
      "Value: 2, Data Type: System.Int32\n",
      "Value: 1, Data Type: System.Int32\n",
      "Value: False, Data Type: System.Boolean\n",
      "Value: 3.141592653589793, Data Type: System.Double\n",
      "Data Type of datas: System.Int32[]\n"
     ]
    }
   ],
   "source": [
    "\n",
    "     using System;\n",
    "\n",
    "object[] dataTypes = { 5, 5.0, 5 > 1, '5', 5 * 2, '5' * 2, 5 / 2, 5 % 2, 5 == 3, Math.PI };\n",
    "\n",
    "foreach (var item in dataTypes)\n",
    "{\n",
    "    Console.WriteLine(\"Value: \" + item + \", Data Type: \" + item.GetType());\n",
    "}\n",
    "\n",
    "int[] myArray = { 5, 2, 1 };\n",
    "Console.WriteLine(\"Data Type of datas: \" + myArray.GetType());\n",
    "\n"
   ]
  },
  {
   "cell_type": "markdown",
   "id": "35259f80",
   "metadata": {},
   "source": [
    "# Question 2 C#\n",
    "Write (and evaluate) C# expressions that answer these questions:\n",
    "a. How many letters are there in 'Supercalifragilisticexpialidocious'?\n",
    "b. Does 'Supercalifragilisticexpialidocious' contain 'ice' as a substring?\n",
    "c. Which of the following words is the longest: \n",
    "Supercalifragilisticexpialidocious, Honorificabilitudinitatibus, or \n",
    "Bababadalgharaghtakamminarronnkonn? \n",
    "d. Which composer comes first in the dictionary: 'Berlioz', 'Borodin', 'Brian', \n",
    "'Bartok', 'Bellini', 'Buxtehude', 'Bernstein'. Which one comes last?\n"
   ]
  },
  {
   "cell_type": "code",
   "execution_count": 6,
   "id": "9e88f98a",
   "metadata": {},
   "outputs": [
    {
     "name": "stdout",
     "output_type": "stream",
     "text": [
      "a. Number of letters in 'Supercalifragilisticexpialidocious': 34\n",
      "b. Contains 'ice': True\n",
      "c. Longest word: Supercalifragilisticexpialidocious\n",
      "d. First composer: Bartok\n",
      "   Last composer: Buxtehude\n"
     ]
    }
   ],
   "source": [
    "\n",
    "        string word1 = \"Supercalifragilisticexpialidocious\";\n",
    "        string word2 = \"Honorificabilitudinitatibus\";\n",
    "        string word3 = \"Bababadalgharaghtakamminarronnkonn\";\n",
    "        string[] composers = { \"Berlioz\", \"Borodin\", \"Brian\", \"Bartok\", \"Bellini\", \"Buxtehude\", \"Bernstein\" };\n",
    "\n",
    "        // a. How many letters are there in 'Supercalifragilisticexpialidocious'?\n",
    "        int letterCount = word1.Length;\n",
    "        Console.WriteLine(\"a. Number of letters in 'Supercalifragilisticexpialidocious': \" + letterCount);\n",
    "\n",
    "        // b. Does 'Supercalifragilisticexpialidocious' contain 'ice' as a substring?\n",
    "        bool containsIce = word1.Contains(\"ice\");\n",
    "        Console.WriteLine(\"b. Contains 'ice': \" + containsIce);\n",
    "\n",
    "        // c. Which of the following words is the longest:\n",
    "        int maxLength = 0;\n",
    "        string longestWord = \"\";\n",
    "        foreach (string word in new string[] { word1, word2, word3 })\n",
    "        {\n",
    "            if (word.Length > maxLength)\n",
    "            {\n",
    "                maxLength = word.Length;\n",
    "                longestWord = word;\n",
    "            }\n",
    "        }\n",
    "        Console.WriteLine(\"c. Longest word: \" + longestWord);\n",
    "\n",
    "        // d. Which composer comes first and last in the dictionary:\n",
    "        Array.Sort(composers);\n",
    "        string firstComposer = composers[0];\n",
    "        string lastComposer = composers[composers.Length - 1];\n",
    "        Console.WriteLine(\"d. First composer: \" + firstComposer);\n",
    "        Console.WriteLine(\"   Last composer: \" + lastComposer);\n",
    " "
   ]
  },
  {
   "cell_type": "markdown",
   "id": "b98b6518",
   "metadata": {},
   "source": [
    "# Question 2 C#\n",
    "Implement function triangleArea(a,b,c) that takes as input the lengths of the 3\n",
    "sides of a triangle and returns the area of the triangle. By Heron's formula, the area \n",
    "of a triangle with side lengths a, b, and c is\n",
    "s(s - a)(s -b)(s -c)\n",
    ", where \n",
    "s = (a+b+c)/2. \n",
    ">>> triangleArea(2,2,2)\n",
    "1.7320508075688772"
   ]
  },
  {
   "cell_type": "code",
   "execution_count": 12,
   "id": "0f9afd70",
   "metadata": {},
   "outputs": [
    {
     "name": "stdout",
     "output_type": "stream",
     "text": [
      "The area of the triangle is: 1.7320508075688772\r\n"
     ]
    }
   ],
   "source": [
    "        double side1 = 2.0;\n",
    "        double side2 = 2.0;\n",
    "        double side3 = 2.0;\n",
    "\n",
    "       \n",
    "           \n",
    "            double s = (side1 + side2 + side3) / 2.0;\n",
    "\n",
    "            //  using Heron's formula\n",
    "            double area = Math.Sqrt(s * (s - side1) * (s - side2) * (s - side3));\n",
    "\n",
    "            // Display the calculated area\n",
    "            Console.WriteLine(\"The area of the triangle is: \" + area);\n",
    "       "
   ]
  },
  {
   "cell_type": "markdown",
   "id": "114d0ddf",
   "metadata": {},
   "source": [
    "# Question 4 C#\n",
    "Write a program in C# Sharp to separate odd and even integers in separate arrays. \n",
    "Go to the editor\n",
    "Test Data :\n",
    "Input the number of elements to be stored in the array :5\n",
    "Input 5 elements in the array :\n",
    "element - 0 : 25\n",
    "element - 1 : 47\n",
    "element - 2 : 42\n",
    "element - 3 : 56\n",
    "element - 4 : 32\n",
    "Expected Output:\n",
    "The Even elements are:\n",
    "42 56 32\n",
    "The Odd elements are :\n",
    "25 47\n"
   ]
  },
  {
   "cell_type": "code",
   "execution_count": 13,
   "id": "c93d1447",
   "metadata": {},
   "outputs": [
    {
     "name": "stdout",
     "output_type": "stream",
     "text": [
      "Total number of elements are 5 as follows: 25 47 42 56 32\n",
      "\n",
      "Odd elements are:\n",
      "25 47 \n",
      "Even elements are:\n",
      "42 56 32 "
     ]
    }
   ],
   "source": [
    "        int[] numbers = { 25, 47, 42, 56, 32 };\n",
    "        Console.WriteLine(\"Total number of elements are \" + numbers.Length + \" as follows: \" + string.Join(\" \", numbers));\n",
    "\n",
    "        Console.WriteLine(\"\\nOdd elements are:\");\n",
    "        foreach (int num in numbers)\n",
    "        {\n",
    "            if (num % 2 != 0)\n",
    "            {\n",
    "                Console.Write(num + \" \");\n",
    "            }\n",
    "        }\n",
    "\n",
    "        Console.WriteLine(\"\\nEven elements are:\");\n",
    "        foreach (int num in numbers)\n",
    "        {\n",
    "            if (num % 2 == 0)\n",
    "            {\n",
    "                Console.Write(num + \" \");\n",
    "            }\n",
    "        }"
   ]
  },
  {
   "cell_type": "markdown",
   "id": "32cae66f",
   "metadata": {},
   "source": [
    "# Question 5 C#\n",
    "a. Write a function inside(x,y,x1,y1,x2,y2) that returns True or False \n",
    "depending on whether the point (x,y) lies in the rectangle with lower left \n",
    "corner (x1,y1) and upper right corner (x2,y2).\n",
    ">>> inside(1,1,0,0,2,3)\n",
    "True\n",
    ">>> inside(-1,-1,0,0,2,3)\n",
    "False\n",
    "b. Use function inside() from part a. to write an expression that tests whether \n",
    "the point (1,1) lies in both of the following rectangles: one with lower left \n",
    "corner (0.3, 0.5) and upper right corner (1.1, 0.7) and the other with lower \n",
    "left corner (0.5, 0.2) and upper right corner (1.1, 2). "
   ]
  },
  {
   "cell_type": "code",
   "execution_count": 14,
   "id": "5a7a5b72",
   "metadata": {},
   "outputs": [
    {
     "name": "stdout",
     "output_type": "stream",
     "text": [
      "Is point (1,1) in rectangle |(0,0), (2,3)|?\n",
      "True\n",
      "Is point (-1,-1) in rectangle |(0,0), (2,3)|?\n",
      "False\n",
      "\n",
      "Checking for (1,1) in rectangles |(0.3,0.5),(1.1,0.7)| and |(0.5,0.2),(1.1,2)|\n",
      "The given point doesn't lie in both rectangles.\n"
     ]
    }
   ],
   "source": [
    " Console.WriteLine(\"Is point (1,1) in rectangle |(0,0), (2,3)|?\");\n",
    "        bool a1 = (1 > 0 && 1 < 2 && 1 > 0 && 1 < 3);\n",
    "        Console.WriteLine(a1);\n",
    "\n",
    "        Console.WriteLine(\"Is point (-1,-1) in rectangle |(0,0), (2,3)|?\");\n",
    "        bool a2 = (-1 > 0 && -1 < 2 && -1 > 0 && -1 < 3);\n",
    "        Console.WriteLine(a2 + \"\\n\");\n",
    "\n",
    "        Console.WriteLine(\"Checking for (1,1) in rectangles |(0.3,0.5),(1.1,0.7)| and |(0.5,0.2),(1.1,2)|\");\n",
    "        bool rec1 = (1 > 0.3 && 1 < 1.1 && 1 > 0.5 && 1 < 0.7);\n",
    "        bool rec2 = (1 > 0.5 && 1 < 1.1 && 1 > 0.2 && 1 < 2);\n",
    "\n",
    "        if (rec1 && rec2)\n",
    "        {\n",
    "            Console.WriteLine(\"The given point lies in both rectangles.\");\n",
    "        }\n",
    "        else\n",
    "        {\n",
    "            Console.WriteLine(\"The given point doesn't lie in both rectangles.\");\n",
    "        }"
   ]
  },
  {
   "cell_type": "markdown",
   "id": "c9f073c3",
   "metadata": {},
   "source": [
    "# Question 6 Python\n",
    "16. You can turn a word into pig-Latin using the following two rules (simplified):\n",
    "• If the word starts with a consonant, move that letter to the end and append \n",
    "'ay'. For example, 'happy' becomes 'appyhay' and 'pencil' becomes 'encilpay'.\n",
    "• If the word starts with a vowel, simply append 'way' to the end of the word. \n",
    "For example, 'enter' becomes 'enterway' and 'other' becomes 'otherway' . For \n",
    "our purposes, there are 5 vowels: a, e, i, o, u (so we count y as a consonant).\n",
    "Write a function pig() that takes a word (i.e., a string) as input and returns its pig\u0002Latin form. Your function should still work if the input word contains upper case \n",
    "characters. Your output should always be lower case however. \n",
    ">>> pig('happy')\n",
    "'appyhay'\n",
    ">>> pig('Enter')\n",
    "'enterway'"
   ]
  },
  {
   "cell_type": "code",
   "execution_count": 1,
   "id": "e6ba5829",
   "metadata": {},
   "outputs": [
    {
     "name": "stdout",
     "output_type": "stream",
     "text": [
      "appyhay\n",
      "enterway\n"
     ]
    }
   ],
   "source": [
    "def pig(word):\n",
    "    word = word.lower()\n",
    "\n",
    "    if word[0] in \"aeiou\":\n",
    "        pig_latin = word + \"way\"\n",
    "    else:\n",
    "        pig_latin = word[1:] + word[0] + \"ay\"\n",
    "\n",
    "    return pig_latin\n",
    "\n",
    "print(pig(\"happy\"))\n",
    "print(pig(\"Enter\"))\n"
   ]
  },
  {
   "cell_type": "markdown",
   "id": "5bf180ee",
   "metadata": {},
   "source": [
    "# Question 7 Python\n",
    "\n",
    "File bloodtype1.txt records blood-types of patients (A, B, AB, O or OO) at a clinic. \n",
    "Write a function bldcount() that reads the file with name name and reports (i.e., \n",
    "prints) how many patients there are in each bloodtype.\n",
    ">>> bldcount('bloodtype.txt')\n",
    "There are 10 patients of blood type A.\n",
    "There is one patient of blood type B.\n",
    "There are 10 patients of blood type AB.\n",
    "There are 12 patients of blood type O.\n",
    "There are no patients of blood type OO."
   ]
  },
  {
   "cell_type": "code",
   "execution_count": 2,
   "id": "297353ee",
   "metadata": {},
   "outputs": [
    {
     "name": "stdout",
     "output_type": "stream",
     "text": [
      "There are 15 patients of blood type A.\n",
      "There is one patient of blood type B.\n",
      "There are 13 patients of blood type AB.\n",
      "There are 15 patients of blood type O.\n",
      "There are no patients of blood type OO.\n"
     ]
    }
   ],
   "source": [
    "def bldcount(filename):\n",
    "    data = {\"A\": 0, \"B\": 0, \"AB\": 0, \"O\": 0, \"OO\": 0}\n",
    "\n",
    "    try:\n",
    "        with open(filename, 'r') as file:\n",
    "            words = file.read().split()\n",
    "\n",
    "            for word in words:\n",
    "                blood_type = word.upper()\n",
    "                if blood_type in data:\n",
    "                    data[blood_type] += 1\n",
    "\n",
    "        # Print the count for each blood type\n",
    "        for blood_type, count in data.items():\n",
    "            if count == 1:\n",
    "                print('There is one patient of blood type ' + blood_type + '.')\n",
    "            elif count > 1:\n",
    "                print('There are ' + str(count) + ' patients of blood type ' + blood_type + '.')\n",
    "            else:\n",
    "                print('There are no patients of blood type ' + blood_type + '.')\n",
    "\n",
    "    except FileNotFoundError:\n",
    "        print(\"File '\" + filename + \"' not found.\")\n",
    "\n",
    "bldcount('bloodtype1.txt')\n"
   ]
  },
  {
   "cell_type": "markdown",
   "id": "9fb9f6b7",
   "metadata": {},
   "source": [
    "# Question 8 Python\n",
    "Write a function curconv() that takes as input:\n",
    "1. a currency represented using a string (e.g., 'JPY' for the Japanese Yen or \n",
    "'EUR' for the Euro)\n",
    "2. an amount\n",
    "and then converts and returns the amount in US dollars.\n",
    ">>> curconv('EUR', 100)\n",
    "122.96544\n",
    ">>> curconv('JPY', 100)\n",
    "1.241401"
   ]
  },
  {
   "cell_type": "code",
   "execution_count": 12,
   "id": "83f384b2",
   "metadata": {},
   "outputs": [
    {
     "name": "stdout",
     "output_type": "stream",
     "text": [
      "122.96544\n",
      "1.241401\n"
     ]
    }
   ],
   "source": [
    "def extract(filename):\n",
    "    try:\n",
    "        #make a dictionary of data\n",
    "        currency_rates = {}\n",
    "        with open(filename, 'r') as file:\n",
    "            for line in file:\n",
    "                parts = line.split()\n",
    "                code, rate = parts[0], float(parts[1])\n",
    "                currency_rates[code] = rate\n",
    "    except FileNotFoundError:\n",
    "        print(f\"file {filename} not found.\")\n",
    "    return currency_rates\n",
    "   \n",
    "\n",
    "currency_rates = extract(\"currencies.txt\")  \n",
    "\n",
    "def curconv(currency_code, amount):\n",
    "    # find the code, get the exchange rate, multiply and get conversion\n",
    "    if currency_code in currency_rates:\n",
    "        return amount * currency_rates[currency_code]\n",
    "    else:\n",
    "        print(\"currency code\" + currency_code + \" not found in the list\")\n",
    "   \n",
    "eur = curconv('EUR', 100)\n",
    "print(eur)\n",
    "\n",
    "jpy = curconv('JPY', 100)\n",
    "print(jpy)"
   ]
  },
  {
   "cell_type": "markdown",
   "id": "15b4af26",
   "metadata": {},
   "source": [
    "# Question 9 Python\n",
    "Each of the following will cause an exception (an error). Identify what type of \n",
    "exception each will cause.\n",
    "Trying to add incompatible variables, as in \n",
    "adding 6 + ‘a’\n",
    "Referring to the 12th item of a list that has only 10 \n",
    "items\n",
    "Using a value that is out of range for a function’s \n",
    "input, such as calling math.sqrt(-1.0)\n",
    "Using an undeclared variable, such as print(x)\n",
    "when x has not been defined \n",
    "Trying to open a file that does not exist, such as \n",
    "mistyping the file name or looking in the wrong \n",
    "directory. "
   ]
  },
  {
   "cell_type": "code",
   "execution_count": 13,
   "id": "7fcad7ec",
   "metadata": {},
   "outputs": [
    {
     "name": "stdout",
     "output_type": "stream",
     "text": [
      "1. Exception: TypeError\n",
      "2. Exception: IndexError\n",
      "3. Exception: ValueError\n",
      "4. Exception: NameError\n",
      "5. Exception: FileNotFoundError\n"
     ]
    }
   ],
   "source": [
    "import math\n",
    "\n",
    "try:\n",
    "   \n",
    "    result = 6 + 'a'\n",
    "except TypeError as e:\n",
    "    print(f\"1. Exception: {e.__class__.__name__}\")\n",
    "\n",
    "try:\n",
    "   \n",
    "    my_list = [1, 2, 3, 4, 5, 6, 7, 8, 9, 10]\n",
    "    item = my_list[12]\n",
    "except IndexError as e:\n",
    "    print(f\"2. Exception: {e.__class__.__name__}\")\n",
    "\n",
    "try:\n",
    "   \n",
    "    result = math.sqrt(-1.0)\n",
    "except ValueError as e:\n",
    "    print(f\"3. Exception: {e.__class__.__name__}\")\n",
    "\n",
    "try:\n",
    "   \n",
    "    print(x)\n",
    "except NameError as e:\n",
    "    print(f\"4. Exception: {e.__class__.__name__}\")\n",
    "\n",
    "try:\n",
    "   \n",
    "    with open(\"non_existent_file.txt\", 'r'):\n",
    "        pass\n",
    "except FileNotFoundError as e:\n",
    "    print(f\"5. Exception: {e.__class__.__name__}\")\n"
   ]
  },
  {
   "cell_type": "markdown",
   "id": "579d75d5",
   "metadata": {},
   "source": [
    "# Question 10 Python\n",
    "Encryption is the process of hiding the meaning of a text by substituting letters in the \n",
    "message with other letters, according to some system. If the process is successful, no \n",
    "one but the intended recipient can understand the encrypted message. Cryptanalysis\n",
    "refers to attempts to undo the encryption, even if some details of the encryption are \n",
    "unknown (for example, if an encrypted message has been intercepted). The first step \n",
    "of cryptanalysis is often to build up a table of letter frequencies in the encrypted text. \n",
    "Assume that the string letters is already defined as \n",
    "'abcdefghijklmnopqrstuvwxyz'. Write a function called frequencies()\n",
    "that takes a string as its only parameter, and returns a list of integers, showing the \n",
    "number of times each character appears in the text. Your function may ignore any \n",
    "characters that are not in letters. \n",
    ">>> frequencies('The quick red fox got bored and went home.')\n",
    "[1, 1, 1, 3, 5, 1, 1, 2, 1, 0, 1, 0, 1, 2, 4, 0, 1, 2, 0, 2, \n",
    "1, 0, 1, 1, 0, 0]\n",
    ">>> frequencies('apple')"
   ]
  },
  {
   "cell_type": "code",
   "execution_count": 15,
   "id": "37906e09",
   "metadata": {},
   "outputs": [
    {
     "name": "stdout",
     "output_type": "stream",
     "text": [
      "[1, 1, 1, 3, 5, 1, 1, 2, 1, 0, 1, 0, 1, 2, 4, 0, 1, 2, 0, 3, 1, 0, 1, 1, 0, 0]\n",
      "[1, 0, 0, 0, 1, 0, 0, 0, 0, 0, 0, 1, 0, 0, 0, 2, 0, 0, 0, 0, 0, 0, 0, 0, 0, 0]\n"
     ]
    }
   ],
   "source": [
    "def frequencies(input_text):\n",
    "    letters = \"abcdefghijklmnopqrstuvwxyz\"\n",
    "    frequency = [0] * len(letters)\n",
    "    input_text = input_text.lower()\n",
    "\n",
    "    for char in input_text:\n",
    "        if char in letters:\n",
    "            index = letters.index(char)\n",
    "            frequency[index] += 1\n",
    "\n",
    "    return frequency\n",
    "\n",
    "result1 = frequencies(\"The quick red fox got bored and went home.\")\n",
    "print(result1)\n",
    "\n",
    "result2 = frequencies(\"apple\")\n",
    "print(result2)\n"
   ]
  }
 ],
 "metadata": {
  "kernelspec": {
   "display_name": "Python 3 (ipykernel)",
   "language": "python",
   "name": "python3"
  },
  "language_info": {
   "codemirror_mode": {
    "name": "ipython",
    "version": 3
   },
   "file_extension": ".py",
   "mimetype": "text/x-python",
   "name": "python",
   "nbconvert_exporter": "python",
   "pygments_lexer": "ipython3",
   "version": "3.11.5"
  }
 },
 "nbformat": 4,
 "nbformat_minor": 5
}
